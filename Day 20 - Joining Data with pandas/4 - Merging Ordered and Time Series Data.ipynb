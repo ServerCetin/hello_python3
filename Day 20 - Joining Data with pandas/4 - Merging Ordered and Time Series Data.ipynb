{
 "cells": [
  {
   "cell_type": "markdown",
   "source": [
    "# Merge_ordered()\n",
    "\n",
    "![merge order table](assets/order_merge_table.png \"merge order table\")"
   ],
   "metadata": {
    "collapsed": false,
    "pycharm": {
     "name": "#%% md\n"
    }
   }
  },
  {
   "cell_type": "markdown",
   "source": [
    "# Method comparison\n",
    "\n",
    "![merge order table](assets/method_comparison.png \"merge order table\")"
   ],
   "metadata": {
    "collapsed": false,
    "pycharm": {
     "name": "#%% md\n"
    }
   }
  },
  {
   "cell_type": "code",
   "execution_count": 2,
   "outputs": [],
   "source": [
    "# merging\n",
    "#import pandas as pd\n",
    "#pd.merge_ordered(appl, mcd, on='date' , suffixes=('_ aapl' , '_ mcd'))"
   ],
   "metadata": {
    "collapsed": false,
    "pycharm": {
     "name": "#%%\n"
    }
   }
  },
  {
   "cell_type": "markdown",
   "source": [
    "# Forward Fill\n",
    "![merge order table](assets/ff.png \"merge order table\")"
   ],
   "metadata": {
    "collapsed": false,
    "pycharm": {
     "name": "#%% md\n"
    }
   }
  },
  {
   "cell_type": "code",
   "execution_count": 4,
   "outputs": [],
   "source": [
    "# pd.merge_ordered(appl, mcd, on='date' , suffixes=('_ aapl' , '_ mcd'), fill_method='ffill')"
   ],
   "metadata": {
    "collapsed": false,
    "pycharm": {
     "name": "#%%\n"
    }
   }
  },
  {
   "cell_type": "code",
   "execution_count": 6,
   "outputs": [],
   "source": [
    "# When to use merge_ordered()?\n",
    "#       -Ordered data / time series\n",
    "#       -Filling in missing values"
   ],
   "metadata": {
    "collapsed": false,
    "pycharm": {
     "name": "#%%\n"
    }
   }
  },
  {
   "cell_type": "code",
   "execution_count": 8,
   "outputs": [],
   "source": [
    "# # Use merge_ordered() to merge inflation, unemployment with inner join\n",
    "# inflation_unemploy = pd.merge_ordered(inflation, unemployment, on='date', how='inner')\n",
    "#\n",
    "# # Print inflation_unemploy\n",
    "# print(inflation_unemploy)\n",
    "#\n",
    "# # Plot a scatter plot of unemployment_rate vs cpi of inflation_unemploy\n",
    "# inflation_unemploy.plot(kind='scatter', x='unemployment_rate',y='cpi')\n",
    "# plt.show()"
   ],
   "metadata": {
    "collapsed": false,
    "pycharm": {
     "name": "#%%\n"
    }
   }
  },
  {
   "cell_type": "markdown",
   "source": [
    "# merge_asof()\n",
    "\n",
    "# Merge_ordered()\n",
    "\n",
    "![merge order table](assets/asof.png \"merge order table\")"
   ],
   "metadata": {
    "collapsed": false,
    "pycharm": {
     "name": "#%% md\n"
    }
   }
  },
  {
   "cell_type": "code",
   "execution_count": 11,
   "outputs": [],
   "source": [
    "#pd.merge_asof(visa, ibm, on=['date _ time'], suffixes=('_visa' , '_ibm'), direction='forward')\n",
    "#default directiton value is back"
   ],
   "metadata": {
    "collapsed": false,
    "pycharm": {
     "name": "#%%\n"
    }
   }
  },
  {
   "cell_type": "code",
   "execution_count": 12,
   "outputs": [],
   "source": [
    "# When to use _asof()\n",
    "#   -Data sampled from process\n",
    "#   -Developing a training set(no data leakage)"
   ],
   "metadata": {
    "collapsed": false,
    "pycharm": {
     "name": "#%%\n"
    }
   }
  },
  {
   "cell_type": "code",
   "execution_count": 14,
   "outputs": [],
   "source": [
    "# # Use merge_asof() to merge jpm and wells\n",
    "# jpm_wells = pd.merge_asof(jpm, wells, on='date_time',\n",
    "#                           suffixes=('', '_wells'), direction='nearest')\n",
    "#\n",
    "# # Use merge_asof() to merge jpm_wells and bac\n",
    "# jpm_wells_bac = pd.merge_asof(jpm_wells, bac, on='date_time',\n",
    "#                               suffixes=('_jpm', '_bac'), direction='nearest')\n",
    "#\n",
    "# # Compute price diff\n",
    "# price_diffs = jpm_wells_bac.diff()\n",
    "#\n",
    "# # Plot the price diff of the close of jpm, wells and bac only\n",
    "# price_diffs.plot(y=['close_jpm','close_wells','close_bac'])\n",
    "# plt.show()"
   ],
   "metadata": {
    "collapsed": false,
    "pycharm": {
     "name": "#%%\n"
    }
   }
  },
  {
   "cell_type": "code",
   "execution_count": 16,
   "outputs": [],
   "source": [
    "# # Merge gdp and recession on date using merge_asof()\n",
    "# gdp_recession = pd.merge_asof(gdp, recession, on='date')\n",
    "#\n",
    "# # Create a list based on the row value of gdp_recession['econ_status']\n",
    "# is_recession = ['r' if s=='recession' else 'g' for s in gdp_recession['econ_status']]\n",
    "#\n",
    "# # Plot a bar chart of gdp_recession\n",
    "# gdp_recession.plot(kind='bar', y='gdp', x='date', color=is_recession, rot=90)\n",
    "# plt.show()"
   ],
   "metadata": {
    "collapsed": false,
    "pycharm": {
     "name": "#%%\n"
    }
   }
  },
  {
   "cell_type": "markdown",
   "source": [
    "# Selecting data with .query\n",
    "\n",
    "Accepts an input string\n",
    "Input string used to determine what rows are returned\n",
    "Input string similar to statement aer WHERE clause in SQL statement\n",
    "Prior knowledge of SQL is not necessary"
   ],
   "metadata": {
    "collapsed": false,
    "pycharm": {
     "name": "#%% md\n"
    }
   }
  },
  {
   "cell_type": "code",
   "execution_count": 17,
   "outputs": [],
   "source": [
    "# stocks.query('nike > 90 and disney < 140')\n",
    "# stocks_long.query('stock==\"disney\" or (stock==\"nike\" and close < 90)')"
   ],
   "metadata": {
    "collapsed": false,
    "pycharm": {
     "name": "#%%\n"
    }
   }
  },
  {
   "cell_type": "code",
   "execution_count": 19,
   "outputs": [],
   "source": [
    "# # Merge gdp and pop on date and country with fill\n",
    "# gdp_pop = pd.merge_ordered(gdp, pop, on=['country','date'], fill_method='ffill')\n",
    "#\n",
    "# # Add a column named gdp_per_capita to gdp_pop that divides the gdp by pop\n",
    "# gdp_pop['gdp_per_capita'] = gdp_pop['gdp'] / gdp_pop['pop']\n",
    "#\n",
    "# # Pivot data so gdp_per_capita, where index is date and columns is country\n",
    "# gdp_pivot = gdp_pop.pivot_table('gdp_per_capita', 'date', 'country')\n",
    "#\n",
    "# # Select dates equal to or greater than 1991-01-01\n",
    "# recent_gdp_pop = gdp_pivot.query('date>= \"1991-01-01\"')\n",
    "#\n",
    "# # Plot recent_gdp_pop\n",
    "# recent_gdp_pop.plot(rot=90)\n",
    "# plt.show()"
   ],
   "metadata": {
    "collapsed": false,
    "pycharm": {
     "name": "#%%\n"
    }
   }
  },
  {
   "cell_type": "markdown",
   "source": [
    "# Reshaping data with .melt()\n",
    "\n",
    "![widevslong](assets/widevslong.png 'widevslong')\n",
    "![MELT](assets/melt.png 'melt')\n"
   ],
   "metadata": {
    "collapsed": false,
    "pycharm": {
     "name": "#%% md\n"
    }
   }
  },
  {
   "cell_type": "code",
   "execution_count": 21,
   "outputs": [],
   "source": [
    "# social_fin_tall = social_fin.melt(id_vars=['financial' , 'company'])\n",
    "# print(social_fin_tall.head(10))"
   ],
   "metadata": {
    "collapsed": false,
    "pycharm": {
     "name": "#%%\n"
    }
   }
  },
  {
   "cell_type": "code",
   "execution_count": 22,
   "outputs": [],
   "source": [
    "#social_fin_tall = social_fin.melt(id_vars=['financial' , 'company'], value_vars=['2018' ,'2017'])"
   ],
   "metadata": {
    "collapsed": false,
    "pycharm": {
     "name": "#%%\n"
    }
   }
  },
  {
   "cell_type": "code",
   "execution_count": 24,
   "outputs": [],
   "source": [
    "# social_fin_tall = social_fin.melt(id_vars=['financial' , 'company'], value_vars=['2018' ,'2017'], var_name=['year'], value_name='dollars')"
   ],
   "metadata": {
    "collapsed": false,
    "pycharm": {
     "name": "#%%\n"
    }
   }
  },
  {
   "cell_type": "code",
   "execution_count": 26,
   "outputs": [],
   "source": [
    "# # Unpivot everything besides the year column\n",
    "# ur_tall = ur_wide.melt(id_vars=['year'], var_name='month',\n",
    "#                        value_name='unempl_rate')\n",
    "#\n",
    "# # Create a date column using the month and year columns of ur_tall\n",
    "# ur_tall['date'] = pd.to_datetime(ur_tall['month'] + '-' + ur_tall['year'])\n",
    "#\n",
    "# # Sort ur_tall by date in ascending order\n",
    "# ur_sorted = ur_tall.sort_values('date')\n",
    "#\n",
    "# # Plot the unempl_rate by date\n",
    "# ur_sorted.plot(x='date', y='unempl_rate')\n",
    "# plt.show()"
   ],
   "metadata": {
    "collapsed": false,
    "pycharm": {
     "name": "#%%\n"
    }
   }
  },
  {
   "cell_type": "code",
   "execution_count": 27,
   "outputs": [],
   "source": [
    "# # Use melt on ten_yr, unpivot everything besides the metric column\n",
    "# bond_perc = ten_yr.melt(id_vars='metric', var_name='date', value_name='close')\n",
    "#\n",
    "# # Use query on bond_perc to select only the rows where metric=close\n",
    "# bond_perc_close = bond_perc.query('metric == \"close\"')\n",
    "#\n",
    "# # Merge (ordered) dji and bond_perc_close on date with an inner join\n",
    "# dow_bond = pd.merge_ordered(dji, bond_perc_close, on='date',\n",
    "#                             suffixes=('_dow', '_bond'), how='inner')\n",
    "#\n",
    "# # Plot only the close_dow and close_bond columns\n",
    "# dow_bond.plot(y=['close_dow', 'close_bond'], x='date', rot=90)\n",
    "# plt.show()"
   ],
   "metadata": {
    "collapsed": false,
    "pycharm": {
     "name": "#%%\n"
    }
   }
  }
 ],
 "metadata": {
  "kernelspec": {
   "display_name": "Python 3",
   "language": "python",
   "name": "python3"
  },
  "language_info": {
   "codemirror_mode": {
    "name": "ipython",
    "version": 2
   },
   "file_extension": ".py",
   "mimetype": "text/x-python",
   "name": "python",
   "nbconvert_exporter": "python",
   "pygments_lexer": "ipython2",
   "version": "2.7.6"
  }
 },
 "nbformat": 4,
 "nbformat_minor": 0
}